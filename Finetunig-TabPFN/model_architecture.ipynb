{
 "cells": [
  {
   "cell_type": "code",
   "execution_count": 2,
   "metadata": {},
   "outputs": [],
   "source": [
    "from tabpfn import TabPFNClassifier\n",
    "from linformer import Linformer"
   ]
  },
  {
   "cell_type": "code",
   "execution_count": 3,
   "metadata": {},
   "outputs": [
    {
     "name": "stdout",
     "output_type": "stream",
     "text": [
      "TransformerModel(\n",
      "  (transformer_encoder): TransformerEncoderDiffInit(\n",
      "    (layers): ModuleList(\n",
      "      (0-11): 12 x TransformerEncoderLayer(\n",
      "        (self_attn): MultiheadAttention(\n",
      "          (out_proj): NonDynamicallyQuantizableLinear(in_features=512, out_features=512, bias=True)\n",
      "        )\n",
      "        (linear1): Linear(in_features=512, out_features=1024, bias=True)\n",
      "        (dropout): Dropout(p=0.0, inplace=False)\n",
      "        (linear2): Linear(in_features=1024, out_features=512, bias=True)\n",
      "        (norm1): LayerNorm((512,), eps=1e-05, elementwise_affine=True)\n",
      "        (norm2): LayerNorm((512,), eps=1e-05, elementwise_affine=True)\n",
      "        (dropout1): Dropout(p=0.0, inplace=False)\n",
      "        (dropout2): Dropout(p=0.0, inplace=False)\n",
      "      )\n",
      "    )\n",
      "  )\n",
      "  (encoder): Linear(in_features=100, out_features=512, bias=True)\n",
      "  (y_encoder): Linear(in_features=1, out_features=512, bias=True)\n",
      "  (decoder): Sequential(\n",
      "    (0): Linear(in_features=512, out_features=1024, bias=True)\n",
      "    (1): GELU(approximate='none')\n",
      "    (2): Linear(in_features=1024, out_features=10, bias=True)\n",
      "  )\n",
      "  (criterion): CrossEntropyLoss()\n",
      ")\n"
     ]
    }
   ],
   "source": [
    "tpfn = TabPFNClassifier()\n",
    "model = tpfn.model[2]\n",
    "print(model)"
   ]
  },
  {
   "cell_type": "code",
   "execution_count": 4,
   "metadata": {},
   "outputs": [
    {
     "name": "stdout",
     "output_type": "stream",
     "text": [
      "TransformerModel(\n",
      "  (transformer_encoder): Linformer(\n",
      "    (net): SequentialSequence(\n",
      "      (layers): ModuleList(\n",
      "        (0-11): 12 x ModuleList(\n",
      "          (0): PreNorm(\n",
      "            (fn): LinformerSelfAttention(\n",
      "              (to_q): Linear(in_features=512, out_features=512, bias=False)\n",
      "              (to_k): Linear(in_features=512, out_features=128, bias=False)\n",
      "              (dropout): Dropout(p=0.0, inplace=False)\n",
      "              (to_out): Linear(in_features=512, out_features=512, bias=True)\n",
      "            )\n",
      "            (norm): LayerNorm((512,), eps=1e-05, elementwise_affine=True)\n",
      "          )\n",
      "          (1): PreNorm(\n",
      "            (fn): FeedForward(\n",
      "              (w1): Linear(in_features=512, out_features=2048, bias=True)\n",
      "              (act): GELU(approximate='none')\n",
      "              (dropout): Dropout(p=0.0, inplace=False)\n",
      "              (w2): Linear(in_features=2048, out_features=512, bias=True)\n",
      "            )\n",
      "            (norm): LayerNorm((512,), eps=1e-05, elementwise_affine=True)\n",
      "          )\n",
      "        )\n",
      "      )\n",
      "    )\n",
      "  )\n",
      "  (encoder): Linear(in_features=100, out_features=512, bias=True)\n",
      "  (y_encoder): Linear(in_features=1, out_features=512, bias=True)\n",
      "  (decoder): Sequential(\n",
      "    (0): Linear(in_features=512, out_features=1024, bias=True)\n",
      "    (1): GELU(approximate='none')\n",
      "    (2): Linear(in_features=1024, out_features=10, bias=True)\n",
      "  )\n",
      "  (criterion): CrossEntropyLoss()\n",
      ")\n"
     ]
    }
   ],
   "source": [
    "num_heads = model.transformer_encoder.layers[0].self_attn.num_heads \n",
    "embed_dim = model.transformer_encoder.layers[0].self_attn.embed_dim\n",
    "lin_enc = Linformer(\n",
    "    dim=embed_dim,\n",
    "    seq_len=1000,\n",
    "    depth=12,\n",
    "    k=16,\n",
    "    heads=num_heads,\n",
    "    one_kv_head=True,\n",
    "    share_kv=True,\n",
    ")\n",
    "\n",
    "model.transformer_encoder =lin_enc\n",
    "print(model)"
   ]
  },
  {
   "cell_type": "code",
   "execution_count": 5,
   "metadata": {},
   "outputs": [],
   "source": [
    "import pandas as pd\n",
    "import seaborn as sns\n",
    "import matplotlib.pyplot as plt"
   ]
  },
  {
   "cell_type": "code",
   "execution_count": 6,
   "metadata": {},
   "outputs": [],
   "source": [
    "df = pd.read_csv(\"/Users/breenda/Desktop/Finetunig-TabPFN/tabpfn.csv\")"
   ]
  },
  {
   "cell_type": "code",
   "execution_count": 7,
   "metadata": {},
   "outputs": [
    {
     "data": {
      "text/html": [
       "<div>\n",
       "<style scoped>\n",
       "    .dataframe tbody tr th:only-of-type {\n",
       "        vertical-align: middle;\n",
       "    }\n",
       "\n",
       "    .dataframe tbody tr th {\n",
       "        vertical-align: top;\n",
       "    }\n",
       "\n",
       "    .dataframe thead th {\n",
       "        text-align: right;\n",
       "    }\n",
       "</style>\n",
       "<table border=\"1\" class=\"dataframe\">\n",
       "  <thead>\n",
       "    <tr style=\"text-align: right;\">\n",
       "      <th></th>\n",
       "      <th>Model</th>\n",
       "      <th>Dataset</th>\n",
       "      <th>Inference Time</th>\n",
       "      <th>Inference Accuracy</th>\n",
       "    </tr>\n",
       "  </thead>\n",
       "  <tbody>\n",
       "    <tr>\n",
       "      <th>0</th>\n",
       "      <td>RF</td>\n",
       "      <td>Iris</td>\n",
       "      <td>0.0830</td>\n",
       "      <td>0.947</td>\n",
       "    </tr>\n",
       "    <tr>\n",
       "      <th>1</th>\n",
       "      <td>DT</td>\n",
       "      <td>Iris</td>\n",
       "      <td>0.0013</td>\n",
       "      <td>0.921</td>\n",
       "    </tr>\n",
       "    <tr>\n",
       "      <th>2</th>\n",
       "      <td>T_Full</td>\n",
       "      <td>Iris</td>\n",
       "      <td>0.9210</td>\n",
       "      <td>0.947</td>\n",
       "    </tr>\n",
       "    <tr>\n",
       "      <th>3</th>\n",
       "      <td>T_lin_32</td>\n",
       "      <td>Iris</td>\n",
       "      <td>0.1760</td>\n",
       "      <td>0.916</td>\n",
       "    </tr>\n",
       "    <tr>\n",
       "      <th>4</th>\n",
       "      <td>T_lin_16</td>\n",
       "      <td>Iris</td>\n",
       "      <td>0.1500</td>\n",
       "      <td>0.830</td>\n",
       "    </tr>\n",
       "    <tr>\n",
       "      <th>5</th>\n",
       "      <td>T_lin_16 + GANs</td>\n",
       "      <td>Iris</td>\n",
       "      <td>0.1183</td>\n",
       "      <td>0.166</td>\n",
       "    </tr>\n",
       "    <tr>\n",
       "      <th>6</th>\n",
       "      <td>T_lin_16 + RAGs</td>\n",
       "      <td>Iris</td>\n",
       "      <td>0.1080</td>\n",
       "      <td>0.330</td>\n",
       "    </tr>\n",
       "  </tbody>\n",
       "</table>\n",
       "</div>"
      ],
      "text/plain": [
       "             Model Dataset  Inference Time  Inference Accuracy\n",
       "0               RF    Iris          0.0830               0.947\n",
       "1               DT    Iris          0.0013               0.921\n",
       "2           T_Full    Iris          0.9210               0.947\n",
       "3         T_lin_32    Iris          0.1760               0.916\n",
       "4         T_lin_16    Iris          0.1500               0.830\n",
       "5  T_lin_16 + GANs    Iris          0.1183               0.166\n",
       "6  T_lin_16 + RAGs    Iris          0.1080               0.330"
      ]
     },
     "execution_count": 7,
     "metadata": {},
     "output_type": "execute_result"
    }
   ],
   "source": [
    "df"
   ]
  },
  {
   "cell_type": "code",
   "execution_count": 8,
   "metadata": {},
   "outputs": [
    {
     "data": {
      "image/png": "[encoded data removed]",
      "text/plain": [
       "<Figure size 1200x800 with 1 Axes>"
      ]
     },
     "metadata": {},
     "output_type": "display_data"
    }
   ],
   "source": [
    "# Plotting\n",
    "plt.figure(figsize=(12, 8))\n",
    "scatter_plot = sns.scatterplot(data=df, x='Inference Time', y='Inference Accuracy', hue='Dataset', style='Dataset', s=100)\n",
    "# Define the offset value\n",
    "x_offset = 0.001  # Adjust this value as needed\n",
    "y_offset = 0.001 # Adjust this value as needed\n",
    "\n",
    "for i in range(len(df)):\n",
    "    plt.text(df['Inference Time'][i] + x_offset, df['Inference Accuracy'][i] + y_offset, df['Model'][i], \n",
    "             horizontalalignment='left', \n",
    "             size='medium', color='black', weight='semibold')  # Adjust fontsize and alignment as needed\n",
    "\n",
    "plt.title('Inference Accuracy vs Inference Time - Iris')\n",
    "plt.xlabel('Inference Time (s)')\n",
    "plt.ylabel('Inference Accuracy')\n",
    "plt.legend(title='Dataset')\n",
    "plt.grid(True)\n",
    "plt.show()\n"
   ]
  },
  {
   "cell_type": "code",
   "execution_count": null,
   "metadata": {},
   "outputs": [],
   "source": []
  },
  {
   "cell_type": "code",
   "execution_count": null,
   "metadata": {},
   "outputs": [],
   "source": []
  }
 ],
 "metadata": {
  "kernelspec": {
   "display_name": "myenv",
   "language": "python",
   "name": "python3"
  },
  "language_info": {
   "codemirror_mode": {
    "name": "ipython",
    "version": 3
   },
   "file_extension": ".py",
   "mimetype": "text/x-python",
   "name": "python",
   "nbconvert_exporter": "python",
   "pygments_lexer": "ipython3",
   "version": "3.10.14"
  }
 },
 "nbformat": 4,
 "nbformat_minor": 2
}
