{
 "cells": [
  {
   "cell_type": "code",
   "execution_count": 2,
   "id": "6cac5bf1-e742-4041-be32-45e7a0d17d9a",
   "metadata": {},
   "outputs": [
    {
     "name": "stdout",
     "output_type": "stream",
     "text": [
      "Number of features in the first CSV file: 14\n",
      "Number of features in the second CSV file: 14\n"
     ]
    }
   ],
   "source": [
    "import pandas as pd\n",
    "\n",
    "# Load the first CSV file into a DataFrame\n",
    "df1 = pd.read_csv('/Users/rachana/tanpfn/data/dataset/titanic_from_openML.csv')\n",
    "\n",
    "# Load the second CSV file into a DataFrame\n",
    "df2 = pd.read_csv('/Users/rachana/Downloads/synthetic_data_openML.csv')\n",
    "\n",
    "# Count the number of features (columns) in each DataFrame\n",
    "feature_count_df1 = df1.shape[1]\n",
    "feature_count_df2 = df2.shape[1]\n",
    "\n",
    "# Print the counts for comparison\n",
    "print(f\"Number of features in the first CSV file: {feature_count_df1}\")\n",
    "print(f\"Number of features in the second CSV file: {feature_count_df2}\")\n"
   ]
  },
  {
   "cell_type": "code",
   "execution_count": null,
   "id": "f59e2e2c-ba29-4554-af90-783f0fb677ae",
   "metadata": {},
   "outputs": [],
   "source": []
  }
 ],
 "metadata": {
  "kernelspec": {
   "display_name": "Python 3 (ipykernel)",
   "language": "python",
   "name": "python3"
  },
  "language_info": {
   "codemirror_mode": {
    "name": "ipython",
    "version": 3
   },
   "file_extension": ".py",
   "mimetype": "text/x-python",
   "name": "python",
   "nbconvert_exporter": "python",
   "pygments_lexer": "ipython3",
   "version": "3.11.5"
  }
 },
 "nbformat": 4,
 "nbformat_minor": 5
}
